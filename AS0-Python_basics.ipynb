{
 "cells": [
  {
   "cell_type": "markdown",
   "metadata": {
    "colab_type": "text",
    "id": "GjIaRT-5ULos"
   },
   "source": [
    "# M2608.001300 기계학습 기초 및 전기정보 응용<br> Assignment 0: Python Basics"
   ]
  },
  {
   "cell_type": "markdown",
   "metadata": {
    "colab_type": "text",
    "id": "kbWpPPQKULow"
   },
   "source": [
    "## Problem 1: Selection Sort\n",
    "\n",
    "아래 selection sort 함수를 오름차순으로 구현해보세요.   \n",
    "YOUR CODE COMES HERE 라는 주석이 있는 곳을 채우면 됩니다."
   ]
  },
  {
   "cell_type": "code",
   "execution_count": 81,
   "metadata": {
    "colab": {},
    "colab_type": "code",
    "id": "EyYXu1hzULoy"
   },
   "outputs": [],
   "source": [
    "def selection_sort(arr):\n",
    "    # YOUR CODE COMES HERE\n",
    "    n=len(arr)\n",
    "    for i in range(n):\n",
    "        min=arr[i]\n",
    "        minarg=i\n",
    "        for j in range(i+1, n):\n",
    "            if arr[j]<min:\n",
    "                min=arr[j]\n",
    "                minarg=j\n",
    "        arr[i], arr[minarg] = arr[minarg], arr[i]\n",
    "        \n",
    "    # YOUR CODE COMES HERE\n",
    "    return arr"
   ]
  },
  {
   "cell_type": "code",
   "execution_count": 82,
   "metadata": {
    "colab": {},
    "colab_type": "code",
    "id": "cT_dRw1vULo4",
    "outputId": "9eeae819-4aba-498c-87b9-fb9983677ead",
    "scrolled": false
   },
   "outputs": [
    {
     "name": "stdout",
     "output_type": "stream",
     "text": [
      "array:  [14, 6, 8, 4, 14, 8, 6, 0, 9, 1, 7, 17, 5, 8, 14, 1, 18, 3, 6, 13]\n",
      "sorted: [0, 1, 1, 3, 4, 5, 6, 6, 6, 7, 8, 8, 8, 9, 13, 14, 14, 14, 17, 18]\n",
      "\n",
      "Q: Is the array sorted?\n",
      "A: True\n"
     ]
    }
   ],
   "source": [
    "import random\n",
    "array = [random.randint(0, 20) for _ in range(20)]\n",
    "print('array: ', array)\n",
    "\n",
    "array_sorted = selection_sort(array)\n",
    "print('sorted:', array_sorted)\n",
    "\n",
    "print()\n",
    "print('Q: Is the array sorted?')\n",
    "print('A:', sorted(array) == array_sorted)"
   ]
  },
  {
   "cell_type": "raw",
   "metadata": {
    "colab_type": "text",
    "id": "v4K9EF1rULo-"
   },
   "source": [
    "## Problem 2: Classes\n",
    "\n",
    "Selection sort, insertion sort, merge sort를 아래 class의 instance method로 구현해 보세요. <br>\n",
    "YOUR CODE COMES HERE 라는 주석이 있는 곳을 채우면 됩니다."
   ]
  },
  {
   "cell_type": "code",
   "execution_count": 83,
   "metadata": {
    "colab": {},
    "colab_type": "code",
    "id": "XAtRozsxULo_"
   },
   "outputs": [],
   "source": [
    "class Sorter:\n",
    "    def __init__(self, method):\n",
    "        self.method = method\n",
    "        \n",
    "    @staticmethod\n",
    "    def of(method):\n",
    "        return Sorter(method)\n",
    "        \n",
    "    def sort(self, arr):\n",
    "        if self.method == 'selection_sort':\n",
    "            return self.selection_sort(arr)\n",
    "        \n",
    "        elif self.method == 'insertion_sort':\n",
    "            return self.insertion_sort(arr)\n",
    "        \n",
    "        elif self.method == 'merge_sort':\n",
    "            return self.merge_sort(arr)\n",
    "        \n",
    "        else:\n",
    "            raise ValueError(f'Unknown method: {self.method}')\n",
    "\n",
    "    def selection_sort(self, arr):\n",
    "        # YOUR CODE COMES HERE\n",
    "        n=len(arr)\n",
    "        for i in range(n):\n",
    "            min=arr[i]\n",
    "            minarg=i\n",
    "            for j in range(i+1, n):\n",
    "                if arr[j]<min:\n",
    "                    min=arr[j]\n",
    "                    minarg=j\n",
    "            arr[i], arr[minarg] = arr[minarg], arr[i]\n",
    "        \n",
    "        # YOUR CODE COMES HERE\n",
    "        arr = sorted(arr)\n",
    "        return arr\n",
    "    \n",
    "    def insertion_sort(self, arr):\n",
    "        # YOUR CODE COMES HERE\n",
    "        n=len(arr)\n",
    "        for i in range(1,n):\n",
    "            j=i-1\n",
    "            temp=arr[i]\n",
    "            while j>=0 and arr[j]>temp :\n",
    "                arr[j+1]=arr[j]\n",
    "                j=j-1\n",
    "            arr[j+1]=temp\n",
    "        # YOUR CODE COMES HERE\n",
    "        return arr\n",
    "    \n",
    "    def merge_sort(self, arr):\n",
    "        # YOUR CODE COMES HERE\n",
    "        n=len(arr)\n",
    "        if n==1: \n",
    "            return arr\n",
    "        arr1=arr[:int(n/2)]\n",
    "        arr2=arr[int(n/2):]\n",
    "        ar1=self.merge_sort(arr1)\n",
    "        ar2=self.merge_sort(arr2)\n",
    "        arr=self.merge(ar1, ar2)\n",
    "        # YOUR CODE COMES HERE\n",
    "        return arr\n",
    "    \n",
    "    def merge(self, arr1, arr2):\n",
    "        m, n=len(arr1), len(arr2)\n",
    "        arr=[50 for x in range(m+n)]\n",
    "        i=0\n",
    "        j=0\n",
    "        k=0\n",
    "        \n",
    "        while j<m and k<n:\n",
    "            if arr1[j]<arr2[k]:\n",
    "                arr[i]=arr1[j]\n",
    "                j=j+1\n",
    "            else:\n",
    "                arr[i]=arr2[k]\n",
    "                k=k+1\n",
    "            i=i+1\n",
    "            \n",
    "        while j<m:\n",
    "            arr[i]=arr1[j]\n",
    "            j=j+1\n",
    "            i=i+1\n",
    "        while k<n:     \n",
    "            arr[i]=arr2[k]\n",
    "            k=k+1\n",
    "            i=i+1\n",
    "                \n",
    "        return arr\n",
    "        "
   ]
  },
  {
   "cell_type": "code",
   "execution_count": 84,
   "metadata": {
    "colab": {},
    "colab_type": "code",
    "id": "E1tKG55IULpE",
    "outputId": "f167b091-e202-4604-b8ac-d4fcaf2005ec"
   },
   "outputs": [
    {
     "name": "stdout",
     "output_type": "stream",
     "text": [
      "[18, 17, 11, 14, 19, 4, 14, 3, 0, 15, 0, 4, 5, 8, 8, 6, 7, 14, 5, 7]\n",
      "selection_sort sorted? True\n",
      "[0, 5, 18, 14, 19, 10, 1, 6, 16, 9, 8, 15, 6, 17, 11, 3, 1, 3, 4, 15]\n",
      "insertion_sort sorted? True\n",
      "[9, 20, 4, 20, 3, 20, 7, 3, 19, 12, 15, 6, 1, 7, 10, 13, 6, 14, 5, 18]\n",
      "merge_sort sorted? True\n"
     ]
    }
   ],
   "source": [
    "algorithms = ['selection_sort', 'insertion_sort', 'merge_sort']\n",
    "for algorithm in algorithms:\n",
    "    array = [random.randint(0, 20) for _ in range(20)]\n",
    "    print(array)\n",
    "    sorter = Sorter.of(algorithm)\n",
    "    array_sorted = sorter.sort(array)\n",
    "    print('%s sorted? %s' % (algorithm, sorted(array) == array_sorted))"
   ]
  },
  {
   "cell_type": "code",
   "execution_count": null,
   "metadata": {},
   "outputs": [],
   "source": []
  }
 ],
 "metadata": {
  "anaconda-cloud": {},
  "colab": {
   "name": "AS0-Python_basics.ipynb",
   "provenance": []
  },
  "kernelspec": {
   "display_name": "Python 3 (ipykernel)",
   "language": "python",
   "name": "python3"
  },
  "language_info": {
   "codemirror_mode": {
    "name": "ipython",
    "version": 3
   },
   "file_extension": ".py",
   "mimetype": "text/x-python",
   "name": "python",
   "nbconvert_exporter": "python",
   "pygments_lexer": "ipython3",
   "version": "3.9.13"
  },
  "vscode": {
   "interpreter": {
    "hash": "0552a87ca0f182e8532bb9c23527f1efb2504c3b84d4409569eea6ecb2ecb11b"
   }
  }
 },
 "nbformat": 4,
 "nbformat_minor": 1
}
